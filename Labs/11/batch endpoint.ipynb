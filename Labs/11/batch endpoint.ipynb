{
 "cells": [
  {
   "cell_type": "code",
   "execution_count": null,
   "id": "d56dc3b0",
   "metadata": {},
   "outputs": [],
   "source": [
    "from azure.ai.ml.entities  import Model\n",
    "from azure.ai.ml.constants import AssetTypes\n",
    "\n",
    "\n"
   ]
  },
  {
   "cell_type": "code",
   "execution_count": null,
   "id": "7406a92a",
   "metadata": {},
   "outputs": [],
   "source": [
    "# Get a handle to workspace\n",
    "ml_client = MLClient.from_config(credential=credential)"
   ]
  },
  {
   "cell_type": "code",
   "execution_count": null,
   "id": "cee272cb",
   "metadata": {},
   "outputs": [],
   "source": [
    "model_name = 'diabetes_mlflow'\n",
    "model = ml_client.models.create_or_update(\n",
    "Model(name=model_name,\n",
    "     path='./model',\n",
    "     type=AssetTypes.MLFLOW_MODEL))"
   ]
  },
  {
   "cell_type": "code",
   "execution_count": null,
   "id": "8b41ccbf",
   "metadata": {},
   "outputs": [],
   "source": [
    "import datetime\n",
    "endpoint_name = \"batch-\" + datetime.datetime.now().strftime(\"%m%d%%H%M%f\")\n",
    "endpoint_name"
   ]
  },
  {
   "cell_type": "code",
   "execution_count": null,
   "id": "20ef1481",
   "metadata": {},
   "outputs": [],
   "source": [
    "from azure.ai.ml.entities import BatchEndpoint\n",
    "\n",
    "#create  a batch endpoint\n",
    "endpoint = BatchEndpoint(\n",
    "    name=endpoint_name,\n",
    "    description =\"A batch endpoint for classifying diabetes in patients\",\n",
    "    \n",
    "    \n",
    "    )\n",
    "ml_client.batch_endpoints.begin_create_or_update(endpoint)\n"
   ]
  },
  {
   "cell_type": "code",
   "execution_count": null,
   "id": "6cb053a0",
   "metadata": {},
   "outputs": [],
   "source": []
  }
 ],
 "metadata": {
  "kernelspec": {
   "display_name": "Python 3 (ipykernel)",
   "language": "python",
   "name": "python3"
  },
  "language_info": {
   "codemirror_mode": {
    "name": "ipython",
    "version": 3
   },
   "file_extension": ".py",
   "mimetype": "text/x-python",
   "name": "python",
   "nbconvert_exporter": "python",
   "pygments_lexer": "ipython3",
   "version": "3.11.5"
  }
 },
 "nbformat": 4,
 "nbformat_minor": 5
}
