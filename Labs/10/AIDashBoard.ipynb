{
 "cells": [
  {
   "cell_type": "code",
   "execution_count": 1,
   "id": "ea1c0dc8",
   "metadata": {},
   "outputs": [],
   "source": [
    "# Prepare the Data"
   ]
  },
  {
   "cell_type": "code",
   "execution_count": null,
   "id": "f4191ce6",
   "metadata": {},
   "outputs": [],
   "source": [
    "import pandas as pd\n",
    "\n",
    "#read the training and test datasets\n",
    "df_training = pd.read_csv(\"train-data/diabetes.csv\")\n",
    "df_test = pd.read_csv(\"test-data/diabetes-test.csv\")\n",
    "\n",
    "# display the first few rows of the training dataset\n",
    "df_training.head()"
   ]
  },
  {
   "cell_type": "code",
   "execution_count": null,
   "id": "c5ce3128",
   "metadata": {},
   "outputs": [],
   "source": [
    "import pyarrow as pa\n",
    "import pyarrow.parquet as pq\n",
    "\n",
    "#convert data to table\n",
    "table_training = pa.Table.from_pandas(df_training)\n",
    "table_test = pa.Table.from_pandas(df_test)\n",
    "\n",
    "#write tables out to parquet\n",
    "pq.write_table(table_training,\"train-data/dibetes-training.parquet\",version=\"1.0\")\n",
    "pq.write-table(table_test,\"test-data/diabetes-test.parquet\",version=\"1.0\")\n"
   ]
  },
  {
   "cell_type": "code",
   "execution_count": null,
   "id": "81a5a58b",
   "metadata": {},
   "outputs": [],
   "source": [
    "# Get a handle to workspace\n",
    "ml_client = MLClient.from_config(credential=credential)"
   ]
  },
  {
   "cell_type": "code",
   "execution_count": null,
   "id": "86df6395",
   "metadata": {},
   "outputs": [],
   "source": [
    "train_data_path = \"train-data/\"\n",
    "test_data_path = \"test-data/\"\n",
    "data_version = \"1\""
   ]
  },
  {
   "cell_type": "code",
   "execution_count": null,
   "id": "f81bd848",
   "metadata": {},
   "outputs": [],
   "source": [
    "from azure.ai.ml.entities import Data\n",
    "from azure.ai.ml.constants import AssetTypes\n",
    "\n",
    "input_train_data = \"diabetes_train_mltable\"\n",
    "input_test_data = \"diabetes_test_mltable\"\n",
    "\n",
    "try:\n",
    "    # Try getting data already registered in workspace\n",
    "    train_data = ml_client.data.get(\n",
    "        name=input_train_data,\n",
    "        version=data_version,\n",
    "    )\n",
    "    test_data = ml_client.data.get(\n",
    "        name=input_test_data,\n",
    "        version=data_version,\n",
    "    )\n",
    "except Exception as e:\n",
    "    train_data = Data(\n",
    "        path=train_data_path,\n",
    "        type=AssetTypes.MLTABLE,\n",
    "        description=\"RAI diabetes training data\",\n",
    "        name=input_train_data,\n",
    "        version=data_version,\n",
    "    )\n",
    "    ml_client.data.create_or_update(train_data)\n",
    "\n",
    "    test_data = Data(\n",
    "        path=test_data_path,\n",
    "        type=AssetTypes.MLTABLE,\n",
    "        description=\"RAI diabetes test data\",\n",
    "        name=input_test_data,\n",
    "        version=data_version,\n",
    "    )\n",
    "    ml_client.data.create_or_update(test_data)"
   ]
  },
  {
   "cell_type": "code",
   "execution_count": null,
   "id": "21f5cc0b",
   "metadata": {},
   "outputs": [],
   "source": [
    "# Get handle to azureml registry for the RAI built in components\n",
    "registry_name = \"azureml\"\n",
    "ml_client_registry = MLClient(\n",
    "    credential=credential,\n",
    "    subscription_id=ml_client.subscription_id,\n",
    "    resource_group_name=ml_client.resource_group_name,\n",
    "    registry_name=registry_name,\n",
    ")\n",
    "print(ml_client_registry)"
   ]
  },
  {
   "cell_type": "code",
   "execution_count": null,
   "id": "0edbad6b",
   "metadata": {},
   "outputs": [],
   "source": [
    "#Register the model by pointing to the model folder and its contents.\n",
    "from azure.ai.ml.entities import Model\n",
    "from azure.ai.ml.constants import AssetTypes\n",
    "\n",
    "file_model = Model(\n",
    "    path=\"model\",\n",
    "    type=AssetTypes.MLFLOW_MODEL,\n",
    "    name=\"local-mlflow-diabetes\",\n",
    "    description=\"Model created from local file.\",\n",
    ")\n",
    "model = ml_client.models.create_or_update(file_model)"
   ]
  },
  {
   "cell_type": "code",
   "execution_count": null,
   "id": "8a574d47",
   "metadata": {},
   "outputs": [],
   "source": []
  }
 ],
 "metadata": {
  "kernelspec": {
   "display_name": "Python 3 (ipykernel)",
   "language": "python",
   "name": "python3"
  },
  "language_info": {
   "codemirror_mode": {
    "name": "ipython",
    "version": 3
   },
   "file_extension": ".py",
   "mimetype": "text/x-python",
   "name": "python",
   "nbconvert_exporter": "python",
   "pygments_lexer": "ipython3",
   "version": "3.11.5"
  }
 },
 "nbformat": 4,
 "nbformat_minor": 5
}
