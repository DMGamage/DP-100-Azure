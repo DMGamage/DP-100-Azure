{
 "cells": [
  {
   "cell_type": "code",
   "execution_count": null,
   "id": "94ace65c-6e0a-4d61-98a6-56a593b10798",
   "metadata": {},
   "outputs": [],
   "source": [
    "from azure.identity import DefaultAzureCredential, InteractiveBrowserCredential\n",
    "from azure.ai.ml import MLClient\n",
    "\n",
    "try:\n",
    "    credential = DefaultAzureCredential()\n",
    "    # Check if given credential can get token successfully.\n",
    "    credential.get_token(\"https://management.azure.com/.default\")\n",
    "except Exception as ex:\n",
    "    # Fall back to InteractiveBrowserCredential in case DefaultAzureCredential not work\n",
    "    credential = InteractiveBrowserCredential()"
   ]
  },
  {
   "cell_type": "code",
   "execution_count": 1,
   "id": "44e04adb-c320-4e4d-8aa5-cb2489d1c698",
   "metadata": {},
   "outputs": [
    {
     "ename": "NameError",
     "evalue": "name 'MLClient' is not defined",
     "output_type": "error",
     "traceback": [
      "\u001b[0;31m---------------------------------------------------------------------------\u001b[0m",
      "\u001b[0;31mNameError\u001b[0m                                 Traceback (most recent call last)",
      "Cell \u001b[0;32mIn[1], line 2\u001b[0m\n\u001b[1;32m      1\u001b[0m \u001b[38;5;66;03m# Get a handle to workspace\u001b[39;00m\n\u001b[0;32m----> 2\u001b[0m ml_client \u001b[38;5;241m=\u001b[39m \u001b[43mMLClient\u001b[49m\u001b[38;5;241m.\u001b[39mfrom_config(credential\u001b[38;5;241m=\u001b[39mcredential)\n",
      "\u001b[0;31mNameError\u001b[0m: name 'MLClient' is not defined"
     ]
    }
   ],
   "source": [
    "# Get a handle to workspace\n",
    "ml_client = MLClient.from_config(credential=credential)"
   ]
  },
  {
   "cell_type": "code",
   "execution_count": null,
   "id": "5f0b4970-ccab-4a48-a9ff-b06e23a9052c",
   "metadata": {},
   "outputs": [],
   "source": [
    "stores = ml_client.datastores.list()\n",
    "for ds_name in stores :\n",
    "    print(ds_names.names)\n",
    "    "
   ]
  },
  {
   "cell_type": "code",
   "execution_count": null,
   "id": "c735a581-b813-41d9-a9f5-12d68703fb80",
   "metadata": {},
   "outputs": [],
   "source": [
    "from azure.ai.ml.entities import AzureBlobDatastore\n",
    "from azure.ai.ml.entities import AccountKeyConfiguration\n",
    "\n",
    "store = AzureBlobDatastore(\n",
    "    name=\"blob_training_data\",\n",
    "    description=\"Blob Storage for training data\",\n",
    "    account_name=\"YOUR-STORAGE-ACCOUNT-NAME\",\n",
    "    container_name=\"training-data\", \n",
    "    credentials=AccountKeyConfiguration(\n",
    "        account_key=\"XXXX-XXXX\"\n",
    "    ),\n",
    ")\n",
    "ml_client.create_or_update(store)"
   ]
  },
  {
   "cell_type": "code",
   "execution_count": null,
   "id": "db9583bd-ed1d-4f4e-99c9-941cb40b2788",
   "metadata": {},
   "outputs": [],
   "source": [
    "stores = ml_client.datastores.list()\n",
    "for ds_name in stores:\n",
    "    print(ds_name.name)"
   ]
  },
  {
   "cell_type": "code",
   "execution_count": null,
   "id": "59b86c71-d955-4111-9f89-2403a223320c",
   "metadata": {},
   "outputs": [],
   "source": [
    "from azure.ai.ml.entities import Data\n",
    "from azure.ai.ml.constants import AssetTypes\n",
    "\n",
    "my_path = './data/diabetes.csv'\n",
    "my_data = Data(\n",
    "path=my_path,\n",
    "type=AssetTypes.URI_FILE,\n",
    "description=\"Data asset pointing to a local file, automatically uploaded to the default datastore\",\n",
    "name=\"diabetes-local\"\n",
    ")"
   ]
  },
  {
   "cell_type": "code",
   "execution_count": null,
   "id": "1d0ca5c0-370f-476a-a524-873e365b9ea4",
   "metadata": {},
   "outputs": [],
   "source": [
    "ml_client.data.create_or_update(my_data)"
   ]
  },
  {
   "cell_type": "code",
   "execution_count": null,
   "id": "7353e1c1-08f3-4fb1-baa7-6b3489249d2a",
   "metadata": {},
   "outputs": [],
   "source": [
    "datastore_path = 'azureml://datastores/blob_training_data/paths/data-\n",
    "asset-path/'\n",
    "\n",
    "my_data = Data(\n",
    "path=datastore_path,\n",
    "type=AssetTypes.URI_FOLDER,\n",
    "description='Data asset pointing to data-asset-path folder in datastore',\n",
    "name=\"diabetes-datastore-path\"\n",
    ")\n",
    "\n",
    "ml_client.data.create_or_update(my_data)"
   ]
  },
  {
   "cell_type": "code",
   "execution_count": null,
   "id": "a04c72f0-006a-4b9d-bc14-e27e171622fd",
   "metadata": {},
   "outputs": [],
   "source": [
    "from azure.ai.ml.entities import Data\n",
    "from azure.ai.ml.constants import AssetTypes\n",
    "local_path = 'data/'\n",
    "my_data = Data(\n",
    "path=local_path,\n",
    "type=AssetTypes.MLTABLE,\n",
    "description=\"MLTable pointing to diabetes.csv in data folder\",\n",
    "name=\"diabetes-table\"\n",
    ")\n",
    "ml_client.data.create_or_update(my_data)\n"
   ]
  },
  {
   "cell_type": "code",
   "execution_count": null,
   "id": "94802b9a-303a-4743-9d26-9f6afb88db69",
   "metadata": {},
   "outputs": [],
   "source": [
    "data_sets = ml_client.data.list()\n",
    "for ds_name in datasets:\n",
    "    print(ds_name.name)\n",
    "    "
   ]
  },
  {
   "cell_type": "code",
   "execution_count": null,
   "id": "50409f4e-f5fa-4eb2-8c62-e54d8073ea4b",
   "metadata": {},
   "outputs": [],
   "source": [
    "import mltable\n",
    "\n",
    "registererd_data_set = ml_client.data.get(name='diabetes-table',\n",
    "                                          version=1)\n",
    "tbl = mltable.load(f\"azureml:/{registered_data_assest.id\"}"
   ]
  }
 ],
 "metadata": {
  "kernelspec": {
   "display_name": "Python 3 (ipykernel)",
   "language": "python",
   "name": "python3"
  },
  "language_info": {
   "codemirror_mode": {
    "name": "ipython",
    "version": 3
   },
   "file_extension": ".py",
   "mimetype": "text/x-python",
   "name": "python",
   "nbconvert_exporter": "python",
   "pygments_lexer": "ipython3",
   "version": "3.11.5"
  }
 },
 "nbformat": 4,
 "nbformat_minor": 5
}
