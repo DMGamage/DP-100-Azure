{
 "cells": [
  {
   "cell_type": "code",
   "execution_count": 3,
   "id": "a0c4ff45-9983-442e-9ef7-b53e9b65b66f",
   "metadata": {},
   "outputs": [],
   "source": [
    "import pandas as pd\n",
    "import numpy as np\n",
    "from sklearn.model_selection import train_test_split\n",
    "from sklearn.linear_model import LogisticRegression\n",
    "from sklearn.metrics import roc_auc_score\n",
    "from sklearn.metrics import roc_curve"
   ]
  },
  {
   "cell_type": "code",
   "execution_count": 5,
   "id": "99c8909d-cfc8-4175-a300-2fa85cee1969",
   "metadata": {},
   "outputs": [
    {
     "name": "stdout",
     "output_type": "stream",
     "text": [
      "Loading Data ....\n"
     ]
    }
   ],
   "source": [
    "print(\"Loading Data ....\")\n",
    "diabetes = pd.read_csv('./src/diabetes.csv')"
   ]
  },
  {
   "cell_type": "code",
   "execution_count": 6,
   "id": "b06c7401-7d12-4383-91ac-5c756a1c73c4",
   "metadata": {},
   "outputs": [
    {
     "name": "stdout",
     "output_type": "stream",
     "text": [
      "Training a logistic regression model with regularization rate of 0.01\n",
      "Accuracy: 0.774\n",
      "AUC: 0.8484437036668493\n"
     ]
    }
   ],
   "source": [
    "# separate features and labels\n",
    "X, y = diabetes[['Pregnancies','PlasmaGlucose','DiastolicBloodPressure','TricepsThickness','SerumInsulin','BMI','DiabetesPedigree','Age']].values, diabetes['Diabetic'].values\n",
    "\n",
    "# split data into training set and test set\n",
    "X_train, X_test, y_train, y_test = train_test_split(X, y, test_size=0.30, random_state=0)\n",
    "\n",
    "# set regularization hyperparameter\n",
    "reg = 0.01\n",
    "\n",
    "\n",
    "# train a logistic regression model\n",
    "print('Training a logistic regression model with regularization rate of', reg)\n",
    "model = LogisticRegression(C=1/reg, solver=\"liblinear\").fit(X_train, y_train)\n",
    "\n",
    "# calculate accuracy\n",
    "y_hat = model.predict(X_test)\n",
    "acc = np.average(y_hat == y_test)\n",
    "print('Accuracy:', acc)\n",
    "\n",
    "# calculate AUC\n",
    "y_scores = model.predict_proba(X_test)\n",
    "auc = roc_auc_score(y_test,y_scores[:,1])\n",
    "print('AUC: ' + str(auc))"
   ]
  },
  {
   "cell_type": "code",
   "execution_count": 7,
   "id": "fe17de4d-3efd-4433-ba85-858764de3611",
   "metadata": {},
   "outputs": [
    {
     "ename": "ModuleNotFoundError",
     "evalue": "No module named 'azure.ai'",
     "output_type": "error",
     "traceback": [
      "\u001b[0;31m---------------------------------------------------------------------------\u001b[0m",
      "\u001b[0;31mModuleNotFoundError\u001b[0m                       Traceback (most recent call last)",
      "Cell \u001b[0;32mIn[7], line 1\u001b[0m\n\u001b[0;32m----> 1\u001b[0m \u001b[38;5;28;01mfrom\u001b[39;00m \u001b[38;5;21;01mazure\u001b[39;00m\u001b[38;5;21;01m.\u001b[39;00m\u001b[38;5;21;01mai\u001b[39;00m\u001b[38;5;21;01m.\u001b[39;00m\u001b[38;5;21;01mml\u001b[39;00m \u001b[38;5;28;01mimport\u001b[39;00m command\n\u001b[1;32m      3\u001b[0m \u001b[38;5;66;03m# configure job\u001b[39;00m\n\u001b[1;32m      4\u001b[0m job \u001b[38;5;241m=\u001b[39m command(\n\u001b[1;32m      5\u001b[0m     code\u001b[38;5;241m=\u001b[39m\u001b[38;5;124m\"\u001b[39m\u001b[38;5;124m./src\u001b[39m\u001b[38;5;124m\"\u001b[39m,\n\u001b[1;32m      6\u001b[0m     command\u001b[38;5;241m=\u001b[39m\u001b[38;5;124m\"\u001b[39m\u001b[38;5;124mpython diabetes-training.py\u001b[39m\u001b[38;5;124m\"\u001b[39m,\n\u001b[0;32m   (...)\u001b[0m\n\u001b[1;32m     10\u001b[0m     experiment_name\u001b[38;5;241m=\u001b[39m\u001b[38;5;124m\"\u001b[39m\u001b[38;5;124mdiabetes-training\u001b[39m\u001b[38;5;124m\"\u001b[39m\n\u001b[1;32m     11\u001b[0m )\n",
      "\u001b[0;31mModuleNotFoundError\u001b[0m: No module named 'azure.ai'"
     ]
    }
   ],
   "source": [
    "from azure.ai.ml import command\n",
    "\n",
    "# configure job\n",
    "job = command(\n",
    "    code=\"./src\",\n",
    "    command=\"python diabetes-training.py\",\n",
    "    environment=\"AzureML-sklearn-0.24-ubuntu18.04-py37-cpu@latest\",\n",
    "    compute=\"aml-cluster\",\n",
    "    display_name=\"diabetes-pythonv2-train\",\n",
    "    experiment_name=\"diabetes-training\"\n",
    ")\n",
    "\n",
    "# submit job\n",
    "returned_job = ml_client.create_or_update(job)\n",
    "aml_url = returned_job.studio_url\n",
    "print(\"Monitor your job at\", aml_url)"
   ]
  },
  {
   "cell_type": "code",
   "execution_count": null,
   "id": "2bdc4259-4dd4-4499-b8dd-561cb2c6b03f",
   "metadata": {},
   "outputs": [],
   "source": [
    "import mltable\n",
    "registered_data_asset = ml_client.data.get(name='diabetes-table',\n",
    "version=1)\n",
    "tbl = mltable.load(f\"azureml:/{registered_data_asset.id}\")\n",
    "df = tbl.to_pandas_dataframe()\n",
    "df.head(5)"
   ]
  },
  {
   "cell_type": "code",
   "execution_count": null,
   "id": "24e3b17b-2e24-44b9-af84-fc944bdf9d7c",
   "metadata": {},
   "outputs": [],
   "source": [
    "import os\n",
    "# create a folder for the script files\n",
    "script_folder = 'src'\n",
    "os.makedirs(script_folder, exist_ok=True)\n",
    "print(script_folder, 'folder created')\n",
    "%%writefile $script_folder/move-data.py\n",
    "# import libraries\n",
    "import argparse\n",
    "import pandas as pd\n",
    "import numpy as np\n",
    "from pathlib import Path"
   ]
  },
  {
   "cell_type": "code",
   "execution_count": null,
   "id": "a2213004-4091-4aef-bdc3-f17a1720e5f2",
   "metadata": {},
   "outputs": [],
   "source": [
    "def main(args):\n",
    "# read data\n",
    "df = get_data(args.input_data)\n",
    "output_df = df.to_csv((Path(args.output_datastore) /\n",
    "\"diabetes.csv\"), index = False)\n",
    "# function that reads the data\n",
    "def get_data(path):\n",
    "df = pd.read_csv(path)\n",
    "# Count the rows and print the result\n",
    "row_count = (len(df))\n",
    "print('Analyzing {} rows of data'.format(row_count))\n",
    "return df\n",
    "def parse_args():\n",
    "# setup arg parser\n",
    "parser = argparse.ArgumentParser()\n",
    "# add arguments\n",
    "parser.add_argument(\"--input_data\", dest='input_data',\n",
    "type=str)\n",
    "parser.add_argument(\"--output_datastore\", dest='output_datastore',\n",
    "type=str)\n",
    "# parse args\n",
    "args = parser.parse_args()\n",
    "# return args\n",
    "return args\n",
    "# run script\n",
    "if __name__ == \"__main__\":\n",
    "# add space in logs\n",
    "print(\"\\n\\n\")\n",
    "print(\"*\" * 60)\n",
    "# parse args\n",
    "args = parse_args()\n",
    "# run main function\n",
    "main(args)\n",
    "# add space in logs\n",
    "print(\"*\" * 60)"
   ]
  },
  {
   "cell_type": "code",
   "execution_count": null,
   "id": "aa40919a-7569-407a-a5df-92793dd3a8e6",
   "metadata": {},
   "outputs": [],
   "source": [
    "from azure.ai.ml import Input, Output\n",
    "from azure.ai.ml.constants import AssetTypes\n",
    "from azure.ai.ml import command\n",
    "# configure input and output\n",
    "my_job_inputs = {\n",
    "\"local_data\": Input(type=AssetTypes.URI_FILE,\n",
    "path=\"azureml:diabetes-local:1\")\n",
    "}\n",
    "my_job_outputs = {\n",
    "\"datastore_data\": Output(type=AssetTypes.URI_FOLDER,\n",
    "path=\"azureml://datastores/blob_training_data/paths/datastore-path\")\n",
    "}\n",
    "# configure job\n",
    "job = command(\n",
    "code=\"./src\",\n",
    "command=\"python move-data.py --input_data ${{inputs.local_data}}\n",
    "--output_datastore ${{outputs.datastore_data}}\",\n",
    "inputs=my_job_inputs,\n",
    "outputs=my_job_outputs,\n",
    "environment=\"AzureML-sklearn-0.24-ubuntu18.04-py37-cpu@latest\",\n",
    "compute=\"aml-cluster\",\n",
    "display_name=\"move-diabetes-data\",\n",
    "experiment_name=\"move-diabetes-data\"\n",
    ")\n",
    "# submit job\n",
    "returned_job = ml_client.create_or_update(job)\n",
    "aml_url = returned_job.studio_url\n",
    "print(\"Monitor your job at\", aml_url)"
   ]
  }
 ],
 "metadata": {
  "kernelspec": {
   "display_name": "Python 3 (ipykernel)",
   "language": "python",
   "name": "python3"
  },
  "language_info": {
   "codemirror_mode": {
    "name": "ipython",
    "version": 3
   },
   "file_extension": ".py",
   "mimetype": "text/x-python",
   "name": "python",
   "nbconvert_exporter": "python",
   "pygments_lexer": "ipython3",
   "version": "3.11.5"
  }
 },
 "nbformat": 4,
 "nbformat_minor": 5
}
