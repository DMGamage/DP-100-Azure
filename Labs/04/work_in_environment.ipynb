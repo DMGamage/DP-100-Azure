{
 "cells": [
  {
   "cell_type": "code",
   "execution_count": null,
   "id": "b1de9356",
   "metadata": {},
   "outputs": [],
   "source": [
    "from azure.identity import DefaultAzureCredential,\n",
    "InteractiveBrowserCredential\n",
    "from azure.ai.ml import MLClient\n",
    "try:\n",
    "    credential = DefaultAzureCredential()\n",
    "# Check if given credential can get token successfully.\n",
    "    credential.get_token(\"https://management.azure.com/.default\")\n",
    "except Exception as ex:\n",
    "# Fall back to InteractiveBrowserCredential in case\n",
    "    DefaultAzureCredential not work\n",
    "    credential = InteractiveBrowserCredential()\n",
    "# Get a handle to workspace\n",
    "ml_client = MLClient.from_config(credential=credential)"
   ]
  },
  {
   "cell_type": "code",
   "execution_count": null,
   "id": "bc9a8298",
   "metadata": {},
   "outputs": [],
   "source": [
    "%%writefile src/diabetes-training.py\n",
    "# import libraries\n",
    "import pandas as pd\n",
    "import numpy as np\n",
    "from sklearn.model_selection import train_test_split\n",
    "from sklearn.linear_model import LogisticRegression\n",
    "from sklearn.metrics import roc_auc_score\n",
    "from sklearn.metrics import roc_curve\n",
    "\n",
    "# load the diabetes dataset\n",
    "print(\"Loading Data...\")\n",
    "diabetes = pd.read_csv('diabetes.csv')\n",
    "\n",
    "# separate features and labels\n",
    "X, y =diabetes[['Pregnancies','PlasmaGlucose','DiastolicBloodPressure','TricepsThickness','SerumInsulin','BMI','DiabetesPedigree','Age']].values,diabetes['Diabetic'].values\n",
    "\n",
    "# split data into training set and test set\n",
    "X_train, X_test, y_train, y_test = train_test_split(X, y,test_size=0.30, random_state=0)\n",
    "\n",
    "# set regularization hyperparameter\n",
    "reg = 0.01\n",
    "\n",
    "# train a logistic regression model\n",
    "print('Training a logistic regression model with regularization rateof', reg)\n",
    "model = LogisticRegression(C=1/reg, solver=\"liblinear\").fit(X_train,y_train)\n",
    "\n",
    "# calculate accuracy\n",
    "y_hat = model.predict(X_test)\n",
    "acc = np.average(y_hat == y_test)\n",
    "print('Accuracy:', acc)\n",
    "\n",
    "# calculate AUC\n",
    "y_scores = model.predict_proba(X_test)\n",
    "auc = roc_auc_score(y_test,y_scores[:,1])\n",
    "print('AUC: ' + str(auc))"
   ]
  },
  {
   "cell_type": "code",
   "execution_count": null,
   "id": "ebd76344",
   "metadata": {},
   "outputs": [],
   "source": [
    "from azure.ai.ml import command\n",
    "\n",
    "# configure job\n",
    "job = command(\n",
    "code=\"./src\",\n",
    "command=\"python diabetes-training.py\",\n",
    "environment=\"AzureML-sklearn-0.24-ubuntu18.04-py37-cpu@latest\",\n",
    "compute=\"aml-cluster\",\n",
    "display_name=\"diabetes-train-curated-env\",\n",
    "experiment_name=\"diabetes-training\"\n",
    ")\n",
    "\n",
    "# submit job\n",
    "returned_job = ml_client.create_or_update(job)\n",
    "aml_url = returned_job.studio_url\n",
    "print(\"Monitor your job at\", aml_url)"
   ]
  },
  {
   "cell_type": "code",
   "execution_count": null,
   "id": "9289abac",
   "metadata": {},
   "outputs": [],
   "source": [
    "envs = ml_client.environments.list()\n",
    "for env in envs:\n",
    "    print(env.name)\n",
    "    \n",
    "env = ml_client.environments.get(\"AzureML-sklearn-0.24-ubuntu18.04-\n",
    "py37-cpu\", version=44)\n",
    "print(env. description, env.tags)\n",
    "    "
   ]
  },
  {
   "cell_type": "code",
   "execution_count": null,
   "id": "bd627c1f",
   "metadata": {},
   "outputs": [],
   "source": [
    "from azure.ai.ml.entities import Environment\n",
    "env_docker_image = Environment(\n",
    "    image=\"mcr.microsoft.com/azureml/openmpi3.1.2-ubuntu18.04\",\n",
    "    name=\"docker-image-example\",\n",
    "    description=\"Environment created from a Docker image.\",\n",
    "    )\n",
    "ml_client.environments.create_or_update(env_docker_image)"
   ]
  },
  {
   "cell_type": "code",
   "execution_count": null,
   "id": "ddedac65-25a1-4cac-8932-4171e1bcea0d",
   "metadata": {},
   "outputs": [],
   "source": [
    "from azure.ai.ml import command\n",
    "# configure job\n",
    "job = command(\n",
    "code=\"./src\",\n",
    "command=\"python diabetes-training.py\",\n",
    "environment=\"docker-image-example:1\",\n",
    "compute=\"aml-cluster\",\n",
    "display_name=\"diabetes-train-custom-env\",\n",
    "experiment_name=\"diabetes-training\"\n",
    ")\n",
    "# submit job\n",
    "returned_job = ml_client.create_or_update(job)\n",
    "aml_url = returned_job.studio_url\n",
    "print(\"Monitor your job at\", aml_url)"
   ]
  },
  {
   "cell_type": "code",
   "execution_count": null,
   "id": "2d6bdbd2-8616-4d04-b772-032ebc703934",
   "metadata": {},
   "outputs": [],
   "source": [
    "%%writefile src/conda-env.yml\n",
    "name: basic-env-cpu\n",
    "channels:\n",
    "     - conda-forge\n",
    "dependencies:\n",
    "    - python=3.11\n",
    "    - scikit-learn\n",
    "    - pandas\n",
    "    - numpy\n",
    "    - matplotlib"
   ]
  },
  {
   "cell_type": "code",
   "execution_count": null,
   "id": "6b58a0d1-a1f0-4b06-bc3c-afbcf28c4d77",
   "metadata": {},
   "outputs": [],
   "source": [
    "from azure.ai.ml.entities import Environment\n",
    "env_docker_conda = Environment(\n",
    "    image=\"mcr.microsoft.com/azureml/openmpi3.1.2-ubuntu18.04\",\n",
    "    conda_file=\"./src/conda-env.yml\",\n",
    "    name=\"docker-image-plus-conda-example\",\n",
    "    description=\"Environment created from a Docker image plus Conda environment.\",\n",
    "        )\n",
    "ml_client.environments.create_or_update(env_docker_conda)"
   ]
  },
  {
   "cell_type": "code",
   "execution_count": null,
   "id": "99b79a72-5568-41e9-bfb4-12d21763b8e2",
   "metadata": {},
   "outputs": [],
   "source": [
    "from azure.ai.ml import command\n",
    "# configure job\n",
    "job = command(\n",
    "code=\"./src\",\n",
    "command=\"python diabetes-training.py\",\n",
    "environment=\"docker-image-plus-conda-example:1\",\n",
    "compute=\"aml-cluster\",\n",
    "display_name=\"diabetes-train-custom-env\",\n",
    "experiment_name=\"diabetes-training\""
   ]
  }
 ],
 "metadata": {
  "kernelspec": {
   "display_name": "Python 3 (ipykernel)",
   "language": "python",
   "name": "python3"
  },
  "language_info": {
   "codemirror_mode": {
    "name": "ipython",
    "version": 3
   },
   "file_extension": ".py",
   "mimetype": "text/x-python",
   "name": "python",
   "nbconvert_exporter": "python",
   "pygments_lexer": "ipython3",
   "version": "3.11.5"
  }
 },
 "nbformat": 4,
 "nbformat_minor": 5
}
